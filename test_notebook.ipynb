{
  "cells": [
    {
      "cell_type": "markdown",
      "metadata": {
        "colab_type": "text",
        "id": "view-in-github"
      },
      "source": [
        "<a href=\"https://colab.research.google.com/github/anas-r-dev/focalnet-tensorflow/blob/main/test_notebook.ipynb\" target=\"_parent\"><img src=\"https://colab.research.google.com/assets/colab-badge.svg\" alt=\"Open In Colab\"/></a>"
      ]
    },
    {
      "cell_type": "code",
      "execution_count": 4,
      "metadata": {
        "colab": {
          "base_uri": "https://localhost:8080/"
        },
        "id": "MBT6ZydNyjnC",
        "outputId": "79acff9a-df4f-48ea-bec3-906b3869a898"
      },
      "outputs": [
        {
          "name": "stdout",
          "output_type": "stream",
          "text": [
            "Looking in indexes: https://pypi.org/simple, https://us-python.pkg.dev/colab-wheels/public/simple/\n",
            "Requirement already satisfied: tensorflow_addons in /usr/local/lib/python3.8/dist-packages (0.18.0)\n",
            "Requirement already satisfied: packaging in /usr/local/lib/python3.8/dist-packages (from tensorflow_addons) (21.3)\n",
            "Requirement already satisfied: typeguard>=2.7 in /usr/local/lib/python3.8/dist-packages (from tensorflow_addons) (2.7.1)\n",
            "Requirement already satisfied: pyparsing!=3.0.5,>=2.0.2 in /usr/local/lib/python3.8/dist-packages (from packaging->tensorflow_addons) (3.0.9)\n"
          ]
        }
      ],
      "source": [
        "!pip install focalnet-tensorflow \n",
        "\n",
        "\n",
        "import tensorflow as tf\n",
        "from focalnet_tensorflow import focalnet_huge_fl4"
      ]
    },
    {
      "cell_type": "code",
      "execution_count": 5,
      "metadata": {
        "id": "Sn2dBsaA0P6s"
      },
      "outputs": [],
      "source": [
        "model = focalnet_huge_fl4()"
      ]
    },
    {
      "cell_type": "code",
      "execution_count": 8,
      "metadata": {
        "id": "ykfM6fTH0WZb"
      },
      "outputs": [],
      "source": [
        "test_image = tf.random.uniform((1, 224, 224, 3))"
      ]
    },
    {
      "cell_type": "code",
      "execution_count": 9,
      "metadata": {
        "id": "70ZeaAai0i9a"
      },
      "outputs": [],
      "source": [
        "test_prediction = model(test_image)"
      ]
    },
    {
      "cell_type": "code",
      "execution_count": 10,
      "metadata": {
        "colab": {
          "base_uri": "https://localhost:8080/"
        },
        "id": "AWH2iW1K0sp6",
        "outputId": "c4bf3cc0-58c4-41a1-e6d6-4f23d02163ab"
      },
      "outputs": [
        {
          "data": {
            "text/plain": [
              "TensorShape([1, 1000])"
            ]
          },
          "execution_count": 10,
          "metadata": {},
          "output_type": "execute_result"
        }
      ],
      "source": [
        "test_prediction.shape"
      ]
    },
    {
      "cell_type": "code",
      "execution_count": 12,
      "metadata": {
        "colab": {
          "base_uri": "https://localhost:8080/"
        },
        "id": "PrKL5mUI0vTJ",
        "outputId": "079c8c31-163b-4841-dc08-bb389aaf9346"
      },
      "outputs": [
        {
          "data": {
            "text/plain": [
              "TensorShape([1, 1000])"
            ]
          },
          "execution_count": 12,
          "metadata": {},
          "output_type": "execute_result"
        }
      ],
      "source": [
        "test_prediction.shape"
      ]
    },
    {
      "cell_type": "code",
      "execution_count": 13,
      "metadata": {
        "colab": {
          "base_uri": "https://localhost:8080/"
        },
        "id": "hH4rBYWi0wkZ",
        "outputId": "0e09f229-02be-4f06-fe82-b656a3433967"
      },
      "outputs": [
        {
          "name": "stdout",
          "output_type": "stream",
          "text": [
            "Model: \"focal_net_1\"\n",
            "_________________________________________________________________\n",
            " Layer (type)                Output Shape              Param #   \n",
            "=================================================================\n",
            " patch_embed_4 (PatchEmbed)  multiple                  17952     \n",
            "                                                                 \n",
            " dropout_25 (Dropout)        multiple                  0         \n",
            "                                                                 \n",
            " basic_layer_4 (BasicLayer)  multiple                  4095178   \n",
            "                                                                 \n",
            " basic_layer_5 (BasicLayer)  multiple                  16120202  \n",
            "                                                                 \n",
            " basic_layer_6 (BasicLayer)  multiple                  448693082 \n",
            "                                                                 \n",
            " basic_layer_7 (BasicLayer)  multiple                  191341578 \n",
            "                                                                 \n",
            " layer_normalization_105 (La  multiple                 5632      \n",
            " yerNormalization)                                               \n",
            "                                                                 \n",
            " adaptive_average_pooling1d_  multiple                 0         \n",
            " 1 (AdaptiveAveragePooling1D                                     \n",
            " )                                                               \n",
            "                                                                 \n",
            " dense_97 (Dense)            multiple                  2817000   \n",
            "                                                                 \n",
            " flatten_1 (Flatten)         multiple                  0         \n",
            "                                                                 \n",
            "=================================================================\n",
            "Total params: 663,090,624\n",
            "Trainable params: 663,090,624\n",
            "Non-trainable params: 0\n",
            "_________________________________________________________________\n"
          ]
        }
      ],
      "source": [
        "model.summary()"
      ]
    },
    {
      "cell_type": "code",
      "execution_count": null,
      "metadata": {
        "id": "2OjEywHD1bQm"
      },
      "outputs": [],
      "source": []
    }
  ],
  "metadata": {
    "colab": {
      "authorship_tag": "ABX9TyNyxWYP4i5Zhm51bhxMNJQp",
      "include_colab_link": true,
      "provenance": []
    },
    "kernelspec": {
      "display_name": "Python 3",
      "name": "python3"
    },
    "language_info": {
      "name": "python"
    }
  },
  "nbformat": 4,
  "nbformat_minor": 0
}
